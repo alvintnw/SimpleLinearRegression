{
  "nbformat": 4,
  "nbformat_minor": 0,
  "metadata": {
    "colab": {
      "provenance": [],
      "authorship_tag": "ABX9TyMEUg0gmtTsPnrF+elZWJj/",
      "include_colab_link": true
    },
    "kernelspec": {
      "name": "python3",
      "display_name": "Python 3"
    },
    "language_info": {
      "name": "python"
    }
  },
  "cells": [
    {
      "cell_type": "markdown",
      "metadata": {
        "id": "view-in-github",
        "colab_type": "text"
      },
      "source": [
        "<a href=\"https://colab.research.google.com/github/alvintnw/SimpleLinearRegression/blob/main/SimpleLinearRegression.ipynb\" target=\"_parent\"><img src=\"https://colab.research.google.com/assets/colab-badge.svg\" alt=\"Open In Colab\"/></a>"
      ]
    },
    {
      "cell_type": "code",
      "execution_count": null,
      "metadata": {
        "id": "vXrwVb2E7YdZ"
      },
      "outputs": [],
      "source": [
        "import pandas as pd\n",
        "import numpy as np\n",
        "import matplotlib.pyplot as plt\n",
        "from sklearn.model_selection import train_test_split\n",
        "from sklearn.linear_model import LinearRegression\n",
        "from sklearn.metrics import mean_squared_error, r2_score"
      ]
    },
    {
      "cell_type": "code",
      "source": [
        "# Data fiktif: Ukuran rumah (m^2) dan Harga rumah (juta Rupiah)\n",
        "data = {\n",
        "    'ukuran_rumah_m2': [70, 85, 100, 110, 60, 95, 120, 75, 90, 105, 65, 80, 115, 130, 55],\n",
        "    'harga_rumah_juta_rp': [750, 900, 1050, 1150, 680, 1000, 1250, 800, 950, 1100, 700, 850, 1200, 1350, 600]\n",
        "}\n",
        "\n",
        "# Membuat DataFrame dari data\n",
        "df = pd.DataFrame(data)\n",
        "\n",
        "# Menampilkan 5 baris pertama dari DataFrame\n",
        "print(\"5 baris pertama dari dataset:\")\n",
        "print(df.head())\n",
        "\n",
        "# Menampilkan informasi dasar tentang dataset\n",
        "print(\"\\nInformasi dataset:\")\n",
        "df.info()"
      ],
      "metadata": {
        "id": "LcvyJH467pjw"
      },
      "execution_count": null,
      "outputs": []
    },
    {
      "cell_type": "code",
      "source": [
        "# Membuat scatter plot untuk melihat hubungan antara ukuran_rumah_m2 dan harga_rumah_juta_rp\n",
        "plt.figure(figsize=(8, 6))\n",
        "plt.scatter(df['ukuran_rumah_m2'], df['harga_rumah_juta_rp'])\n",
        "plt.title('Hubungan antara Ukuran Rumah dan Harga Rumah')\n",
        "plt.xlabel('Ukuran Rumah (m^2)')\n",
        "plt.ylabel('Harga Rumah (juta Rp)')\n",
        "plt.grid(True)\n",
        "plt.show()"
      ],
      "metadata": {
        "id": "qZfnAFQE7y7I"
      },
      "execution_count": null,
      "outputs": []
    }
  ]
}